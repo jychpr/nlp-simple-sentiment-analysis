{
 "cells": [
  {
   "cell_type": "code",
   "execution_count": 1,
   "id": "ea862b3e-2b22-4afd-80f9-82ed4cd0aac2",
   "metadata": {},
   "outputs": [],
   "source": [
    "import numpy as np\n",
    "import pandas as pd\n",
    "import string as st\n",
    "import seaborn as sns\n",
    "import matplotlib.pyplot as plt\n",
    "import re\n",
    "import nltk\n",
    "import spacy\n",
    "import contractions\n",
    "import sklearn\n",
    "import plotly.graph_objects as go\n",
    "from nltk.corpus import stopwords\n",
    "from nltk import WordNetLemmatizer\n",
    "\n",
    "from sklearn.feature_extraction.text import TfidfVectorizer\n",
    "from sklearn.model_selection import train_test_split, StratifiedKFold, GridSearchCV \n",
    "from sklearn.metrics import mean_absolute_error, accuracy_score, confusion_matrix, classification_report, roc_auc_score,roc_curve,auc\n",
    "from sklearn.tree import DecisionTreeClassifier\n",
    "from sklearn.naive_bayes import GaussianNB\n",
    "from sklearn.linear_model import LogisticRegression\n",
    "from sklearn.ensemble import RandomForestClassifier, VotingClassifier"
   ]
  },
  {
   "cell_type": "markdown",
   "id": "9aa61c2b-3eac-4f76-bb96-a14dd6311a58",
   "metadata": {},
   "source": [
    "LOAD DATASET"
   ]
  },
  {
   "cell_type": "code",
   "execution_count": 2,
   "id": "6deeb652-1e19-4fb0-afc5-b6e3decbce55",
   "metadata": {},
   "outputs": [
    {
     "data": {
      "text/html": [
       "<div>\n",
       "<style scoped>\n",
       "    .dataframe tbody tr th:only-of-type {\n",
       "        vertical-align: middle;\n",
       "    }\n",
       "\n",
       "    .dataframe tbody tr th {\n",
       "        vertical-align: top;\n",
       "    }\n",
       "\n",
       "    .dataframe thead th {\n",
       "        text-align: right;\n",
       "    }\n",
       "</style>\n",
       "<table border=\"1\" class=\"dataframe\">\n",
       "  <thead>\n",
       "    <tr style=\"text-align: right;\">\n",
       "      <th></th>\n",
       "      <th>Review</th>\n",
       "      <th>Rating</th>\n",
       "    </tr>\n",
       "  </thead>\n",
       "  <tbody>\n",
       "    <tr>\n",
       "      <th>0</th>\n",
       "      <td>nice hotel expensive parking got good deal sta...</td>\n",
       "      <td>4</td>\n",
       "    </tr>\n",
       "    <tr>\n",
       "      <th>1</th>\n",
       "      <td>ok nothing special charge diamond member hilto...</td>\n",
       "      <td>2</td>\n",
       "    </tr>\n",
       "    <tr>\n",
       "      <th>2</th>\n",
       "      <td>nice rooms not 4* experience hotel monaco seat...</td>\n",
       "      <td>3</td>\n",
       "    </tr>\n",
       "    <tr>\n",
       "      <th>3</th>\n",
       "      <td>unique, great stay, wonderful time hotel monac...</td>\n",
       "      <td>5</td>\n",
       "    </tr>\n",
       "    <tr>\n",
       "      <th>4</th>\n",
       "      <td>great stay great stay, went seahawk game aweso...</td>\n",
       "      <td>5</td>\n",
       "    </tr>\n",
       "  </tbody>\n",
       "</table>\n",
       "</div>"
      ],
      "text/plain": [
       "                                              Review  Rating\n",
       "0  nice hotel expensive parking got good deal sta...       4\n",
       "1  ok nothing special charge diamond member hilto...       2\n",
       "2  nice rooms not 4* experience hotel monaco seat...       3\n",
       "3  unique, great stay, wonderful time hotel monac...       5\n",
       "4  great stay great stay, went seahawk game aweso...       5"
      ]
     },
     "execution_count": 2,
     "metadata": {},
     "output_type": "execute_result"
    }
   ],
   "source": [
    "raw = pd.read_csv('tripadvisor_hotel_reviews.csv')\n",
    "raw.head()"
   ]
  },
  {
   "cell_type": "code",
   "execution_count": 3,
   "id": "24e7a17a-8262-4b86-9fbc-efadb7743d42",
   "metadata": {},
   "outputs": [
    {
     "name": "stdout",
     "output_type": "stream",
     "text": [
      "<class 'pandas.core.frame.DataFrame'>\n",
      "RangeIndex: 20491 entries, 0 to 20490\n",
      "Data columns (total 2 columns):\n",
      " #   Column  Non-Null Count  Dtype \n",
      "---  ------  --------------  ----- \n",
      " 0   Review  20491 non-null  object\n",
      " 1   Rating  20491 non-null  int64 \n",
      "dtypes: int64(1), object(1)\n",
      "memory usage: 320.3+ KB\n"
     ]
    }
   ],
   "source": [
    "raw.info()"
   ]
  },
  {
   "cell_type": "code",
   "execution_count": 4,
   "id": "a35eaf23-c88c-4974-a581-9430a0038976",
   "metadata": {},
   "outputs": [
    {
     "data": {
      "text/plain": [
       "Rating\n",
       "5    9054\n",
       "4    6039\n",
       "3    2184\n",
       "2    1793\n",
       "1    1421\n",
       "Name: count, dtype: int64"
      ]
     },
     "execution_count": 4,
     "metadata": {},
     "output_type": "execute_result"
    }
   ],
   "source": [
    "raw['Rating'].value_counts()"
   ]
  },
  {
   "cell_type": "markdown",
   "id": "04954c2c-08ee-4b43-8551-2ef952b79d7c",
   "metadata": {},
   "source": [
    "DATA PREPROCESS - STAGE 1"
   ]
  },
  {
   "cell_type": "code",
   "execution_count": 5,
   "id": "d0484cce-78cb-4669-aa9d-0a9365e9a575",
   "metadata": {},
   "outputs": [],
   "source": [
    "data_pre1 = raw.copy()"
   ]
  },
  {
   "cell_type": "code",
   "execution_count": 6,
   "id": "14c21752-d78b-48b7-8044-58f7ae25800c",
   "metadata": {},
   "outputs": [],
   "source": [
    "positive = [4, 5]\n",
    "neutral = [3]\n",
    "negative = [1, 2]\n",
    "\n",
    "def sentiment_check(rating):\n",
    "    if rating in positive:\n",
    "        return 1\n",
    "    elif rating in negative:\n",
    "        return -1\n",
    "    else:\n",
    "        return 0"
   ]
  },
  {
   "cell_type": "code",
   "execution_count": 7,
   "id": "dd6deb05-a863-411b-b952-4d785fbcfc1e",
   "metadata": {},
   "outputs": [],
   "source": [
    "data_pre1['Sentiment'] = data_pre1['Rating'].apply(sentiment_check)"
   ]
  },
  {
   "cell_type": "code",
   "execution_count": 8,
   "id": "35b76ad1-1609-4e9e-a243-064dd57dd1e8",
   "metadata": {},
   "outputs": [
    {
     "data": {
      "text/html": [
       "<div>\n",
       "<style scoped>\n",
       "    .dataframe tbody tr th:only-of-type {\n",
       "        vertical-align: middle;\n",
       "    }\n",
       "\n",
       "    .dataframe tbody tr th {\n",
       "        vertical-align: top;\n",
       "    }\n",
       "\n",
       "    .dataframe thead th {\n",
       "        text-align: right;\n",
       "    }\n",
       "</style>\n",
       "<table border=\"1\" class=\"dataframe\">\n",
       "  <thead>\n",
       "    <tr style=\"text-align: right;\">\n",
       "      <th></th>\n",
       "      <th>Review</th>\n",
       "      <th>Rating</th>\n",
       "      <th>Sentiment</th>\n",
       "    </tr>\n",
       "  </thead>\n",
       "  <tbody>\n",
       "    <tr>\n",
       "      <th>0</th>\n",
       "      <td>nice hotel expensive parking got good deal sta...</td>\n",
       "      <td>4</td>\n",
       "      <td>1</td>\n",
       "    </tr>\n",
       "    <tr>\n",
       "      <th>1</th>\n",
       "      <td>ok nothing special charge diamond member hilto...</td>\n",
       "      <td>2</td>\n",
       "      <td>-1</td>\n",
       "    </tr>\n",
       "    <tr>\n",
       "      <th>2</th>\n",
       "      <td>nice rooms not 4* experience hotel monaco seat...</td>\n",
       "      <td>3</td>\n",
       "      <td>0</td>\n",
       "    </tr>\n",
       "    <tr>\n",
       "      <th>3</th>\n",
       "      <td>unique, great stay, wonderful time hotel monac...</td>\n",
       "      <td>5</td>\n",
       "      <td>1</td>\n",
       "    </tr>\n",
       "    <tr>\n",
       "      <th>4</th>\n",
       "      <td>great stay great stay, went seahawk game aweso...</td>\n",
       "      <td>5</td>\n",
       "      <td>1</td>\n",
       "    </tr>\n",
       "  </tbody>\n",
       "</table>\n",
       "</div>"
      ],
      "text/plain": [
       "                                              Review  Rating  Sentiment\n",
       "0  nice hotel expensive parking got good deal sta...       4          1\n",
       "1  ok nothing special charge diamond member hilto...       2         -1\n",
       "2  nice rooms not 4* experience hotel monaco seat...       3          0\n",
       "3  unique, great stay, wonderful time hotel monac...       5          1\n",
       "4  great stay great stay, went seahawk game aweso...       5          1"
      ]
     },
     "execution_count": 8,
     "metadata": {},
     "output_type": "execute_result"
    }
   ],
   "source": [
    "data_pre1.head()"
   ]
  },
  {
   "cell_type": "markdown",
   "id": "de282da1-589f-4652-9195-a6cd316abc88",
   "metadata": {},
   "source": [
    "SPLITTING TRAIN AND TEST"
   ]
  },
  {
   "cell_type": "code",
   "execution_count": 9,
   "id": "681af2ce-72a4-4e78-87aa-b305ecf850a8",
   "metadata": {},
   "outputs": [],
   "source": [
    "data_pre1['Rating'] = data_pre1['Rating'].astype(str)\n",
    "data_pre1_r1 = data_pre1[data_pre1['Rating'].isin(['1'])]\n",
    "data_pre1_r2 = data_pre1[data_pre1['Rating'].isin(['2'])]\n",
    "data_pre1_r3 = data_pre1[data_pre1['Rating'].isin(['3'])]\n",
    "data_pre1_r4 = data_pre1[data_pre1['Rating'].isin(['4'])]\n",
    "data_pre1_r5 = data_pre1[data_pre1['Rating'].isin(['5'])]"
   ]
  },
  {
   "cell_type": "code",
   "execution_count": 10,
   "id": "75fe376c-026f-44c6-b1ee-c4dea7b82865",
   "metadata": {},
   "outputs": [],
   "source": [
    "rt1_train = data_pre1_r1.sample(n=1000, random_state=0)\n",
    "rt2_train = data_pre1_r2.sample(n=1000, random_state=0)\n",
    "rt3_train = data_pre1_r3.sample(n=2000, random_state=0)\n",
    "rt4_train = data_pre1_r4.sample(n=1000, random_state=0)\n",
    "rt5_train = data_pre1_r5.sample(n=1000, random_state=0)\n",
    "# rt1_train = data_pre1_r1.sample(n=1050, random_state=0)\n",
    "# rt2_train = data_pre1_r2.sample(n=1275, random_state=0)\n",
    "# rt3_train = data_pre1_r3.sample(n=1575, random_state=0)\n",
    "# rt4_train = data_pre1_r4.sample(n=4500, random_state=0)\n",
    "# rt5_train = data_pre1_r5.sample(n=6750, random_state=0)\n",
    "\n",
    "train_combine = [rt1_train, rt2_train, rt3_train, rt4_train, rt5_train]\n",
    "training_set = pd.concat(train_combine)\n",
    "\n",
    "test_set = data_pre1[~data_pre1['Review'].isin(training_set['Review'])]\n",
    "\n",
    "training_set = training_set.reset_index(drop=True)\n",
    "test_set = test_set.reset_index(drop=True)"
   ]
  },
  {
   "cell_type": "code",
   "execution_count": 11,
   "id": "f1e45339-6731-4961-8c45-7006432db959",
   "metadata": {},
   "outputs": [
    {
     "data": {
      "text/plain": [
       "Rating\n",
       "3    2000\n",
       "1    1000\n",
       "2    1000\n",
       "4    1000\n",
       "5    1000\n",
       "Name: count, dtype: int64"
      ]
     },
     "execution_count": 11,
     "metadata": {},
     "output_type": "execute_result"
    }
   ],
   "source": [
    "training_set['Rating'].value_counts()"
   ]
  },
  {
   "cell_type": "code",
   "execution_count": 12,
   "id": "f2cbdbb1-0278-4c57-91bd-0119946226ec",
   "metadata": {},
   "outputs": [
    {
     "data": {
      "text/plain": [
       "Rating\n",
       "5    8054\n",
       "4    5039\n",
       "2     793\n",
       "1     421\n",
       "3     184\n",
       "Name: count, dtype: int64"
      ]
     },
     "execution_count": 12,
     "metadata": {},
     "output_type": "execute_result"
    }
   ],
   "source": [
    "test_set['Rating'].value_counts()"
   ]
  },
  {
   "cell_type": "code",
   "execution_count": 13,
   "id": "9210f6cb-069d-492f-855b-48e78c9edd78",
   "metadata": {},
   "outputs": [],
   "source": [
    "training_set = training_set.drop(['Rating'], axis=1)\n",
    "training_set.to_csv('train.csv', index=False)\n",
    "test_set = test_set.drop(['Rating'], axis=1)\n",
    "test_set.to_csv('test.csv', index=False)"
   ]
  },
  {
   "cell_type": "markdown",
   "id": "bb528520-9e1f-4ab6-9873-c6642ef530b3",
   "metadata": {},
   "source": [
    "DATA PREPROCESSING - MAIN"
   ]
  },
  {
   "cell_type": "code",
   "execution_count": 14,
   "id": "fb1ef3d8-a312-47d9-8a51-64c625c62b3e",
   "metadata": {},
   "outputs": [],
   "source": [
    "train = pd.read_csv('train.csv')\n",
    "test = pd.read_csv('test.csv')"
   ]
  },
  {
   "cell_type": "code",
   "execution_count": 15,
   "id": "0ec37404-2971-4193-9cdd-6f713619ee8e",
   "metadata": {},
   "outputs": [
    {
     "data": {
      "text/html": [
       "<div>\n",
       "<style scoped>\n",
       "    .dataframe tbody tr th:only-of-type {\n",
       "        vertical-align: middle;\n",
       "    }\n",
       "\n",
       "    .dataframe tbody tr th {\n",
       "        vertical-align: top;\n",
       "    }\n",
       "\n",
       "    .dataframe thead th {\n",
       "        text-align: right;\n",
       "    }\n",
       "</style>\n",
       "<table border=\"1\" class=\"dataframe\">\n",
       "  <thead>\n",
       "    <tr style=\"text-align: right;\">\n",
       "      <th></th>\n",
       "      <th>Review</th>\n",
       "      <th>Sentiment</th>\n",
       "    </tr>\n",
       "  </thead>\n",
       "  <tbody>\n",
       "    <tr>\n",
       "      <th>0</th>\n",
       "      <td>dissapointing hotel punta cana general dreams ...</td>\n",
       "      <td>-1</td>\n",
       "    </tr>\n",
       "    <tr>\n",
       "      <th>1</th>\n",
       "      <td>horrible ritz certainly not 5-star hotel nor l...</td>\n",
       "      <td>-1</td>\n",
       "    </tr>\n",
       "    <tr>\n",
       "      <th>2</th>\n",
       "      <td>no service smile just got disappointment, food...</td>\n",
       "      <td>-1</td>\n",
       "    </tr>\n",
       "    <tr>\n",
       "      <th>3</th>\n",
       "      <td>scared stayed wife hotel really disgusted, fle...</td>\n",
       "      <td>-1</td>\n",
       "    </tr>\n",
       "    <tr>\n",
       "      <th>4</th>\n",
       "      <td>not worth price date stay november 16-19 2008m...</td>\n",
       "      <td>-1</td>\n",
       "    </tr>\n",
       "    <tr>\n",
       "      <th>5</th>\n",
       "      <td>dirty overpriced hotel just returned 4 nite st...</td>\n",
       "      <td>-1</td>\n",
       "    </tr>\n",
       "    <tr>\n",
       "      <th>6</th>\n",
       "      <td>save money hostel, booked night stay january s...</td>\n",
       "      <td>-1</td>\n",
       "    </tr>\n",
       "    <tr>\n",
       "      <th>7</th>\n",
       "      <td>not family friendly hotel, travelled wife 2 yr...</td>\n",
       "      <td>-1</td>\n",
       "    </tr>\n",
       "    <tr>\n",
       "      <th>8</th>\n",
       "      <td>respectable mommy kicked hyatt, letter sent hy...</td>\n",
       "      <td>-1</td>\n",
       "    </tr>\n",
       "    <tr>\n",
       "      <th>9</th>\n",
       "      <td>simply.terrible look lobby hotel think just ar...</td>\n",
       "      <td>-1</td>\n",
       "    </tr>\n",
       "  </tbody>\n",
       "</table>\n",
       "</div>"
      ],
      "text/plain": [
       "                                              Review  Sentiment\n",
       "0  dissapointing hotel punta cana general dreams ...         -1\n",
       "1  horrible ritz certainly not 5-star hotel nor l...         -1\n",
       "2  no service smile just got disappointment, food...         -1\n",
       "3  scared stayed wife hotel really disgusted, fle...         -1\n",
       "4  not worth price date stay november 16-19 2008m...         -1\n",
       "5  dirty overpriced hotel just returned 4 nite st...         -1\n",
       "6  save money hostel, booked night stay january s...         -1\n",
       "7  not family friendly hotel, travelled wife 2 yr...         -1\n",
       "8  respectable mommy kicked hyatt, letter sent hy...         -1\n",
       "9  simply.terrible look lobby hotel think just ar...         -1"
      ]
     },
     "execution_count": 15,
     "metadata": {},
     "output_type": "execute_result"
    }
   ],
   "source": [
    "train.head(10)"
   ]
  },
  {
   "cell_type": "markdown",
   "id": "c22acfe1-dc38-4e7c-90d5-82ba8326ce7e",
   "metadata": {},
   "source": [
    "EXPAND CONTRACTIONS"
   ]
  },
  {
   "cell_type": "code",
   "execution_count": 16,
   "id": "1f50e0fc-51d3-4296-a304-3bea7bf7c011",
   "metadata": {},
   "outputs": [
    {
     "data": {
      "text/html": [
       "<div>\n",
       "<style scoped>\n",
       "    .dataframe tbody tr th:only-of-type {\n",
       "        vertical-align: middle;\n",
       "    }\n",
       "\n",
       "    .dataframe tbody tr th {\n",
       "        vertical-align: top;\n",
       "    }\n",
       "\n",
       "    .dataframe thead th {\n",
       "        text-align: right;\n",
       "    }\n",
       "</style>\n",
       "<table border=\"1\" class=\"dataframe\">\n",
       "  <thead>\n",
       "    <tr style=\"text-align: right;\">\n",
       "      <th></th>\n",
       "      <th>Review</th>\n",
       "      <th>Sentiment</th>\n",
       "    </tr>\n",
       "  </thead>\n",
       "  <tbody>\n",
       "    <tr>\n",
       "      <th>0</th>\n",
       "      <td>dissapointing hotel punta cana general dreams ...</td>\n",
       "      <td>-1</td>\n",
       "    </tr>\n",
       "    <tr>\n",
       "      <th>1</th>\n",
       "      <td>horrible ritz certainly not 5-star hotel nor l...</td>\n",
       "      <td>-1</td>\n",
       "    </tr>\n",
       "    <tr>\n",
       "      <th>2</th>\n",
       "      <td>no service smile just got disappointment, food...</td>\n",
       "      <td>-1</td>\n",
       "    </tr>\n",
       "    <tr>\n",
       "      <th>3</th>\n",
       "      <td>scared stayed wife hotel really disgusted, fle...</td>\n",
       "      <td>-1</td>\n",
       "    </tr>\n",
       "    <tr>\n",
       "      <th>4</th>\n",
       "      <td>not worth price date stay november 16-19 2008m...</td>\n",
       "      <td>-1</td>\n",
       "    </tr>\n",
       "    <tr>\n",
       "      <th>5</th>\n",
       "      <td>dirty overpriced hotel just returned 4 nite st...</td>\n",
       "      <td>-1</td>\n",
       "    </tr>\n",
       "    <tr>\n",
       "      <th>6</th>\n",
       "      <td>save money hostel, booked night stay january s...</td>\n",
       "      <td>-1</td>\n",
       "    </tr>\n",
       "    <tr>\n",
       "      <th>7</th>\n",
       "      <td>not family friendly hotel, travelled wife 2 yr...</td>\n",
       "      <td>-1</td>\n",
       "    </tr>\n",
       "    <tr>\n",
       "      <th>8</th>\n",
       "      <td>respectable mommy kicked hyatt, letter sent hy...</td>\n",
       "      <td>-1</td>\n",
       "    </tr>\n",
       "    <tr>\n",
       "      <th>9</th>\n",
       "      <td>simply.terrible look lobby hotel think just ar...</td>\n",
       "      <td>-1</td>\n",
       "    </tr>\n",
       "  </tbody>\n",
       "</table>\n",
       "</div>"
      ],
      "text/plain": [
       "                                              Review  Sentiment\n",
       "0  dissapointing hotel punta cana general dreams ...         -1\n",
       "1  horrible ritz certainly not 5-star hotel nor l...         -1\n",
       "2  no service smile just got disappointment, food...         -1\n",
       "3  scared stayed wife hotel really disgusted, fle...         -1\n",
       "4  not worth price date stay november 16-19 2008m...         -1\n",
       "5  dirty overpriced hotel just returned 4 nite st...         -1\n",
       "6  save money hostel, booked night stay january s...         -1\n",
       "7  not family friendly hotel, travelled wife 2 yr...         -1\n",
       "8  respectable mommy kicked hyatt, letter sent hy...         -1\n",
       "9  simply.terrible look lobby hotel think just ar...         -1"
      ]
     },
     "execution_count": 16,
     "metadata": {},
     "output_type": "execute_result"
    }
   ],
   "source": [
    "train2 = train.copy()\n",
    "train2['Review'] = train2['Review'].apply(lambda x: [contractions.fix(word) for word in x.split()])\n",
    "train2['Review'] = [' '.join(map(str, l)) for l in train2['Review']]\n",
    "train2.head(10)"
   ]
  },
  {
   "cell_type": "markdown",
   "id": "85780367-2165-4515-a45b-1f92379813f7",
   "metadata": {},
   "source": [
    "CASE FOLDING (LOWERCASING)"
   ]
  },
  {
   "cell_type": "code",
   "execution_count": 17,
   "id": "a7a67791-82d4-4129-9e98-a57b08e4cbfd",
   "metadata": {},
   "outputs": [
    {
     "data": {
      "text/html": [
       "<div>\n",
       "<style scoped>\n",
       "    .dataframe tbody tr th:only-of-type {\n",
       "        vertical-align: middle;\n",
       "    }\n",
       "\n",
       "    .dataframe tbody tr th {\n",
       "        vertical-align: top;\n",
       "    }\n",
       "\n",
       "    .dataframe thead th {\n",
       "        text-align: right;\n",
       "    }\n",
       "</style>\n",
       "<table border=\"1\" class=\"dataframe\">\n",
       "  <thead>\n",
       "    <tr style=\"text-align: right;\">\n",
       "      <th></th>\n",
       "      <th>Review</th>\n",
       "      <th>Sentiment</th>\n",
       "    </tr>\n",
       "  </thead>\n",
       "  <tbody>\n",
       "    <tr>\n",
       "      <th>0</th>\n",
       "      <td>dissapointing hotel punta cana general dreams ...</td>\n",
       "      <td>-1</td>\n",
       "    </tr>\n",
       "    <tr>\n",
       "      <th>1</th>\n",
       "      <td>horrible ritz certainly not 5-star hotel nor l...</td>\n",
       "      <td>-1</td>\n",
       "    </tr>\n",
       "    <tr>\n",
       "      <th>2</th>\n",
       "      <td>no service smile just got disappointment, food...</td>\n",
       "      <td>-1</td>\n",
       "    </tr>\n",
       "    <tr>\n",
       "      <th>3</th>\n",
       "      <td>scared stayed wife hotel really disgusted, fle...</td>\n",
       "      <td>-1</td>\n",
       "    </tr>\n",
       "    <tr>\n",
       "      <th>4</th>\n",
       "      <td>not worth price date stay november 16-19 2008m...</td>\n",
       "      <td>-1</td>\n",
       "    </tr>\n",
       "    <tr>\n",
       "      <th>5</th>\n",
       "      <td>dirty overpriced hotel just returned 4 nite st...</td>\n",
       "      <td>-1</td>\n",
       "    </tr>\n",
       "    <tr>\n",
       "      <th>6</th>\n",
       "      <td>save money hostel, booked night stay january s...</td>\n",
       "      <td>-1</td>\n",
       "    </tr>\n",
       "    <tr>\n",
       "      <th>7</th>\n",
       "      <td>not family friendly hotel, travelled wife 2 yr...</td>\n",
       "      <td>-1</td>\n",
       "    </tr>\n",
       "    <tr>\n",
       "      <th>8</th>\n",
       "      <td>respectable mommy kicked hyatt, letter sent hy...</td>\n",
       "      <td>-1</td>\n",
       "    </tr>\n",
       "    <tr>\n",
       "      <th>9</th>\n",
       "      <td>simply.terrible look lobby hotel think just ar...</td>\n",
       "      <td>-1</td>\n",
       "    </tr>\n",
       "  </tbody>\n",
       "</table>\n",
       "</div>"
      ],
      "text/plain": [
       "                                              Review  Sentiment\n",
       "0  dissapointing hotel punta cana general dreams ...         -1\n",
       "1  horrible ritz certainly not 5-star hotel nor l...         -1\n",
       "2  no service smile just got disappointment, food...         -1\n",
       "3  scared stayed wife hotel really disgusted, fle...         -1\n",
       "4  not worth price date stay november 16-19 2008m...         -1\n",
       "5  dirty overpriced hotel just returned 4 nite st...         -1\n",
       "6  save money hostel, booked night stay january s...         -1\n",
       "7  not family friendly hotel, travelled wife 2 yr...         -1\n",
       "8  respectable mommy kicked hyatt, letter sent hy...         -1\n",
       "9  simply.terrible look lobby hotel think just ar...         -1"
      ]
     },
     "execution_count": 17,
     "metadata": {},
     "output_type": "execute_result"
    }
   ],
   "source": [
    "train3 = train2.copy()\n",
    "train3[\"Review\"] = train3[\"Review\"].str.lower()\n",
    "train3.head(10)"
   ]
  },
  {
   "cell_type": "markdown",
   "id": "371a8d30-ffa4-4981-8471-b13305598116",
   "metadata": {},
   "source": [
    "NUMBER REMOVAL"
   ]
  },
  {
   "cell_type": "code",
   "execution_count": 18,
   "id": "de89e540-9dc1-4abc-af0b-9e5ffe840523",
   "metadata": {},
   "outputs": [
    {
     "data": {
      "text/html": [
       "<div>\n",
       "<style scoped>\n",
       "    .dataframe tbody tr th:only-of-type {\n",
       "        vertical-align: middle;\n",
       "    }\n",
       "\n",
       "    .dataframe tbody tr th {\n",
       "        vertical-align: top;\n",
       "    }\n",
       "\n",
       "    .dataframe thead th {\n",
       "        text-align: right;\n",
       "    }\n",
       "</style>\n",
       "<table border=\"1\" class=\"dataframe\">\n",
       "  <thead>\n",
       "    <tr style=\"text-align: right;\">\n",
       "      <th></th>\n",
       "      <th>Review</th>\n",
       "      <th>Sentiment</th>\n",
       "    </tr>\n",
       "  </thead>\n",
       "  <tbody>\n",
       "    <tr>\n",
       "      <th>0</th>\n",
       "      <td>dissapointing hotel punta cana general dreams ...</td>\n",
       "      <td>-1</td>\n",
       "    </tr>\n",
       "    <tr>\n",
       "      <th>1</th>\n",
       "      <td>horrible ritz certainly not  -star hotel nor l...</td>\n",
       "      <td>-1</td>\n",
       "    </tr>\n",
       "    <tr>\n",
       "      <th>2</th>\n",
       "      <td>no service smile just got disappointment, food...</td>\n",
       "      <td>-1</td>\n",
       "    </tr>\n",
       "    <tr>\n",
       "      <th>3</th>\n",
       "      <td>scared stayed wife hotel really disgusted, fle...</td>\n",
       "      <td>-1</td>\n",
       "    </tr>\n",
       "    <tr>\n",
       "      <th>4</th>\n",
       "      <td>not worth price date stay november   -       m...</td>\n",
       "      <td>-1</td>\n",
       "    </tr>\n",
       "    <tr>\n",
       "      <th>5</th>\n",
       "      <td>dirty overpriced hotel just returned   nite st...</td>\n",
       "      <td>-1</td>\n",
       "    </tr>\n",
       "    <tr>\n",
       "      <th>6</th>\n",
       "      <td>save money hostel, booked night stay january s...</td>\n",
       "      <td>-1</td>\n",
       "    </tr>\n",
       "    <tr>\n",
       "      <th>7</th>\n",
       "      <td>not family friendly hotel, travelled wife   yr...</td>\n",
       "      <td>-1</td>\n",
       "    </tr>\n",
       "    <tr>\n",
       "      <th>8</th>\n",
       "      <td>respectable mommy kicked hyatt, letter sent hy...</td>\n",
       "      <td>-1</td>\n",
       "    </tr>\n",
       "    <tr>\n",
       "      <th>9</th>\n",
       "      <td>simply.terrible look lobby hotel think just ar...</td>\n",
       "      <td>-1</td>\n",
       "    </tr>\n",
       "  </tbody>\n",
       "</table>\n",
       "</div>"
      ],
      "text/plain": [
       "                                              Review  Sentiment\n",
       "0  dissapointing hotel punta cana general dreams ...         -1\n",
       "1  horrible ritz certainly not  -star hotel nor l...         -1\n",
       "2  no service smile just got disappointment, food...         -1\n",
       "3  scared stayed wife hotel really disgusted, fle...         -1\n",
       "4  not worth price date stay november   -       m...         -1\n",
       "5  dirty overpriced hotel just returned   nite st...         -1\n",
       "6  save money hostel, booked night stay january s...         -1\n",
       "7  not family friendly hotel, travelled wife   yr...         -1\n",
       "8  respectable mommy kicked hyatt, letter sent hy...         -1\n",
       "9  simply.terrible look lobby hotel think just ar...         -1"
      ]
     },
     "execution_count": 18,
     "metadata": {},
     "output_type": "execute_result"
    }
   ],
   "source": [
    "train4 = train3.copy()\n",
    "train4['Review'] = train4['Review'].apply(lambda x: re.sub(\"[0-9]\", \" \", x))\n",
    "train4.head(10)"
   ]
  },
  {
   "cell_type": "markdown",
   "id": "281c7b87-4f77-45b5-8786-0e73bb8cebee",
   "metadata": {},
   "source": [
    "PUNCTUATION REMOVAL"
   ]
  },
  {
   "cell_type": "code",
   "execution_count": 19,
   "id": "ba4e81e1-fb62-4aa4-bd5d-58cd57941c8f",
   "metadata": {},
   "outputs": [
    {
     "data": {
      "text/html": [
       "<div>\n",
       "<style scoped>\n",
       "    .dataframe tbody tr th:only-of-type {\n",
       "        vertical-align: middle;\n",
       "    }\n",
       "\n",
       "    .dataframe tbody tr th {\n",
       "        vertical-align: top;\n",
       "    }\n",
       "\n",
       "    .dataframe thead th {\n",
       "        text-align: right;\n",
       "    }\n",
       "</style>\n",
       "<table border=\"1\" class=\"dataframe\">\n",
       "  <thead>\n",
       "    <tr style=\"text-align: right;\">\n",
       "      <th></th>\n",
       "      <th>Review</th>\n",
       "      <th>Sentiment</th>\n",
       "    </tr>\n",
       "  </thead>\n",
       "  <tbody>\n",
       "    <tr>\n",
       "      <th>0</th>\n",
       "      <td>dissapointing hotel punta cana general dreams ...</td>\n",
       "      <td>-1</td>\n",
       "    </tr>\n",
       "    <tr>\n",
       "      <th>1</th>\n",
       "      <td>horrible ritz certainly not  star hotel nor le...</td>\n",
       "      <td>-1</td>\n",
       "    </tr>\n",
       "    <tr>\n",
       "      <th>2</th>\n",
       "      <td>no service smile just got disappointment food ...</td>\n",
       "      <td>-1</td>\n",
       "    </tr>\n",
       "    <tr>\n",
       "      <th>3</th>\n",
       "      <td>scared stayed wife hotel really disgusted flea...</td>\n",
       "      <td>-1</td>\n",
       "    </tr>\n",
       "    <tr>\n",
       "      <th>4</th>\n",
       "      <td>not worth price date stay november          my...</td>\n",
       "      <td>-1</td>\n",
       "    </tr>\n",
       "    <tr>\n",
       "      <th>5</th>\n",
       "      <td>dirty overpriced hotel just returned   nite st...</td>\n",
       "      <td>-1</td>\n",
       "    </tr>\n",
       "    <tr>\n",
       "      <th>6</th>\n",
       "      <td>save money hostel booked night stay january st...</td>\n",
       "      <td>-1</td>\n",
       "    </tr>\n",
       "    <tr>\n",
       "      <th>7</th>\n",
       "      <td>not family friendly hotel travelled wife   yr ...</td>\n",
       "      <td>-1</td>\n",
       "    </tr>\n",
       "    <tr>\n",
       "      <th>8</th>\n",
       "      <td>respectable mommy kicked hyatt letter sent hya...</td>\n",
       "      <td>-1</td>\n",
       "    </tr>\n",
       "    <tr>\n",
       "      <th>9</th>\n",
       "      <td>simplyterrible look lobby hotel think just art...</td>\n",
       "      <td>-1</td>\n",
       "    </tr>\n",
       "  </tbody>\n",
       "</table>\n",
       "</div>"
      ],
      "text/plain": [
       "                                              Review  Sentiment\n",
       "0  dissapointing hotel punta cana general dreams ...         -1\n",
       "1  horrible ritz certainly not  star hotel nor le...         -1\n",
       "2  no service smile just got disappointment food ...         -1\n",
       "3  scared stayed wife hotel really disgusted flea...         -1\n",
       "4  not worth price date stay november          my...         -1\n",
       "5  dirty overpriced hotel just returned   nite st...         -1\n",
       "6  save money hostel booked night stay january st...         -1\n",
       "7  not family friendly hotel travelled wife   yr ...         -1\n",
       "8  respectable mommy kicked hyatt letter sent hya...         -1\n",
       "9  simplyterrible look lobby hotel think just art...         -1"
      ]
     },
     "execution_count": 19,
     "metadata": {},
     "output_type": "execute_result"
    }
   ],
   "source": [
    "train5 = train4.copy()\n",
    "train5['Review'] = train5['Review'].apply(lambda x: re.sub('[%s]' % re.escape(st.punctuation), '' , x))\n",
    "train5.head(10)"
   ]
  },
  {
   "cell_type": "markdown",
   "id": "9b29becd-4fef-42de-8ea5-dd4ed8dea8d3",
   "metadata": {},
   "source": [
    "STOPWORDS REMOVAL"
   ]
  },
  {
   "cell_type": "code",
   "execution_count": 20,
   "id": "a59fb030-3f49-4711-9143-cdc7267f6051",
   "metadata": {},
   "outputs": [
    {
     "name": "stderr",
     "output_type": "stream",
     "text": [
      "[nltk_data] Downloading package stopwords to /home/jychpr/nltk_data...\n",
      "[nltk_data]   Package stopwords is already up-to-date!\n"
     ]
    },
    {
     "data": {
      "text/plain": [
       "\"i, me, my, myself, we, our, ours, ourselves, you, you're, you've, you'll, you'd, your, yours, yourself, yourselves, he, him, his, himself, she, she's, her, hers, herself, it, it's, its, itself, they, them, their, theirs, themselves, what, which, who, whom, this, that, that'll, these, those, am, is, are, was, were, be, been, being, have, has, had, having, do, does, did, doing, a, an, the, and, but, if, or, because, as, until, while, of, at, by, for, with, about, against, between, into, through, during, before, after, above, below, to, from, up, down, in, out, on, off, over, under, again, further, then, once, here, there, when, where, why, how, all, any, both, each, few, more, most, other, some, such, no, nor, not, only, own, same, so, than, too, very, s, t, can, will, just, don, don't, should, should've, now, d, ll, m, o, re, ve, y, ain, aren, aren't, couldn, couldn't, didn, didn't, doesn, doesn't, hadn, hadn't, hasn, hasn't, haven, haven't, isn, isn't, ma, mightn, mightn't, mustn, mustn't, needn, needn't, shan, shan't, shouldn, shouldn't, wasn, wasn't, weren, weren't, won, won't, wouldn, wouldn't\""
      ]
     },
     "execution_count": 20,
     "metadata": {},
     "output_type": "execute_result"
    }
   ],
   "source": [
    "nltk.download('stopwords')\n",
    "\", \".join(stopwords.words('english'))"
   ]
  },
  {
   "cell_type": "code",
   "execution_count": 21,
   "id": "bfcdc981-0d0a-4f04-9a98-5f9769536f88",
   "metadata": {},
   "outputs": [],
   "source": [
    "STOPWORDS = set(stopwords.words('english'))\n",
    "def remove_stopwords(text):\n",
    "        return \" \".join([word for word in str(text).split() if word not in STOPWORDS])"
   ]
  },
  {
   "cell_type": "code",
   "execution_count": 22,
   "id": "6bdcd16f-4906-4943-975a-31d32b2d585a",
   "metadata": {},
   "outputs": [
    {
     "data": {
      "text/html": [
       "<div>\n",
       "<style scoped>\n",
       "    .dataframe tbody tr th:only-of-type {\n",
       "        vertical-align: middle;\n",
       "    }\n",
       "\n",
       "    .dataframe tbody tr th {\n",
       "        vertical-align: top;\n",
       "    }\n",
       "\n",
       "    .dataframe thead th {\n",
       "        text-align: right;\n",
       "    }\n",
       "</style>\n",
       "<table border=\"1\" class=\"dataframe\">\n",
       "  <thead>\n",
       "    <tr style=\"text-align: right;\">\n",
       "      <th></th>\n",
       "      <th>Review</th>\n",
       "      <th>Sentiment</th>\n",
       "    </tr>\n",
       "  </thead>\n",
       "  <tbody>\n",
       "    <tr>\n",
       "      <th>0</th>\n",
       "      <td>dissapointing hotel punta cana general dreams ...</td>\n",
       "      <td>-1</td>\n",
       "    </tr>\n",
       "    <tr>\n",
       "      <th>1</th>\n",
       "      <td>horrible ritz certainly star hotel leading hot...</td>\n",
       "      <td>-1</td>\n",
       "    </tr>\n",
       "    <tr>\n",
       "      <th>2</th>\n",
       "      <td>service smile got disappointment food selectio...</td>\n",
       "      <td>-1</td>\n",
       "    </tr>\n",
       "    <tr>\n",
       "      <th>3</th>\n",
       "      <td>scared stayed wife hotel really disgusted flea...</td>\n",
       "      <td>-1</td>\n",
       "    </tr>\n",
       "    <tr>\n",
       "      <th>4</th>\n",
       "      <td>worth price date stay november family arrived ...</td>\n",
       "      <td>-1</td>\n",
       "    </tr>\n",
       "    <tr>\n",
       "      <th>5</th>\n",
       "      <td>dirty overpriced hotel returned nite stay extr...</td>\n",
       "      <td>-1</td>\n",
       "    </tr>\n",
       "    <tr>\n",
       "      <th>6</th>\n",
       "      <td>save money hostel booked night stay january st...</td>\n",
       "      <td>-1</td>\n",
       "    </tr>\n",
       "    <tr>\n",
       "      <th>7</th>\n",
       "      <td>family friendly hotel travelled wife yr old bo...</td>\n",
       "      <td>-1</td>\n",
       "    </tr>\n",
       "    <tr>\n",
       "      <th>8</th>\n",
       "      <td>respectable mommy kicked hyatt letter sent hya...</td>\n",
       "      <td>-1</td>\n",
       "    </tr>\n",
       "    <tr>\n",
       "      <th>9</th>\n",
       "      <td>simplyterrible look lobby hotel think art deco...</td>\n",
       "      <td>-1</td>\n",
       "    </tr>\n",
       "  </tbody>\n",
       "</table>\n",
       "</div>"
      ],
      "text/plain": [
       "                                              Review  Sentiment\n",
       "0  dissapointing hotel punta cana general dreams ...         -1\n",
       "1  horrible ritz certainly star hotel leading hot...         -1\n",
       "2  service smile got disappointment food selectio...         -1\n",
       "3  scared stayed wife hotel really disgusted flea...         -1\n",
       "4  worth price date stay november family arrived ...         -1\n",
       "5  dirty overpriced hotel returned nite stay extr...         -1\n",
       "6  save money hostel booked night stay january st...         -1\n",
       "7  family friendly hotel travelled wife yr old bo...         -1\n",
       "8  respectable mommy kicked hyatt letter sent hya...         -1\n",
       "9  simplyterrible look lobby hotel think art deco...         -1"
      ]
     },
     "execution_count": 22,
     "metadata": {},
     "output_type": "execute_result"
    }
   ],
   "source": [
    "train6 = train5.copy()\n",
    "train6['Review'] = train6['Review'].apply(lambda text: remove_stopwords(text))\n",
    "train6.head(10)"
   ]
  },
  {
   "cell_type": "markdown",
   "id": "d3f17cda-4165-469b-9a79-cc13eb8bfb77",
   "metadata": {},
   "source": [
    "LEMMATIZATION"
   ]
  },
  {
   "cell_type": "code",
   "execution_count": 23,
   "id": "06799b92-4ef8-4ea8-8bb2-6a5a7daf34b3",
   "metadata": {},
   "outputs": [
    {
     "name": "stderr",
     "output_type": "stream",
     "text": [
      "[nltk_data] Downloading package wordnet to /home/jychpr/nltk_data...\n",
      "[nltk_data]   Package wordnet is already up-to-date!\n"
     ]
    }
   ],
   "source": [
    "nltk.download('wordnet')\n",
    "lemmatizer = WordNetLemmatizer()\n",
    "def lemmatize_words(text):\n",
    "    return \" \".join([lemmatizer.lemmatize(word) for word in text.split()])"
   ]
  },
  {
   "cell_type": "code",
   "execution_count": 24,
   "id": "25cbc987-06d0-4781-a2d2-82582a83b565",
   "metadata": {},
   "outputs": [
    {
     "data": {
      "text/html": [
       "<div>\n",
       "<style scoped>\n",
       "    .dataframe tbody tr th:only-of-type {\n",
       "        vertical-align: middle;\n",
       "    }\n",
       "\n",
       "    .dataframe tbody tr th {\n",
       "        vertical-align: top;\n",
       "    }\n",
       "\n",
       "    .dataframe thead th {\n",
       "        text-align: right;\n",
       "    }\n",
       "</style>\n",
       "<table border=\"1\" class=\"dataframe\">\n",
       "  <thead>\n",
       "    <tr style=\"text-align: right;\">\n",
       "      <th></th>\n",
       "      <th>Review</th>\n",
       "      <th>Sentiment</th>\n",
       "    </tr>\n",
       "  </thead>\n",
       "  <tbody>\n",
       "    <tr>\n",
       "      <th>0</th>\n",
       "      <td>dissapointing hotel punta cana general dream o...</td>\n",
       "      <td>-1</td>\n",
       "    </tr>\n",
       "    <tr>\n",
       "      <th>1</th>\n",
       "      <td>horrible ritz certainly star hotel leading hot...</td>\n",
       "      <td>-1</td>\n",
       "    </tr>\n",
       "    <tr>\n",
       "      <th>2</th>\n",
       "      <td>service smile got disappointment food selectio...</td>\n",
       "      <td>-1</td>\n",
       "    </tr>\n",
       "    <tr>\n",
       "      <th>3</th>\n",
       "      <td>scared stayed wife hotel really disgusted flea...</td>\n",
       "      <td>-1</td>\n",
       "    </tr>\n",
       "    <tr>\n",
       "      <th>4</th>\n",
       "      <td>worth price date stay november family arrived ...</td>\n",
       "      <td>-1</td>\n",
       "    </tr>\n",
       "    <tr>\n",
       "      <th>5</th>\n",
       "      <td>dirty overpriced hotel returned nite stay extr...</td>\n",
       "      <td>-1</td>\n",
       "    </tr>\n",
       "    <tr>\n",
       "      <th>6</th>\n",
       "      <td>save money hostel booked night stay january st...</td>\n",
       "      <td>-1</td>\n",
       "    </tr>\n",
       "    <tr>\n",
       "      <th>7</th>\n",
       "      <td>family friendly hotel travelled wife yr old bo...</td>\n",
       "      <td>-1</td>\n",
       "    </tr>\n",
       "    <tr>\n",
       "      <th>8</th>\n",
       "      <td>respectable mommy kicked hyatt letter sent hya...</td>\n",
       "      <td>-1</td>\n",
       "    </tr>\n",
       "    <tr>\n",
       "      <th>9</th>\n",
       "      <td>simplyterrible look lobby hotel think art deco...</td>\n",
       "      <td>-1</td>\n",
       "    </tr>\n",
       "  </tbody>\n",
       "</table>\n",
       "</div>"
      ],
      "text/plain": [
       "                                              Review  Sentiment\n",
       "0  dissapointing hotel punta cana general dream o...         -1\n",
       "1  horrible ritz certainly star hotel leading hot...         -1\n",
       "2  service smile got disappointment food selectio...         -1\n",
       "3  scared stayed wife hotel really disgusted flea...         -1\n",
       "4  worth price date stay november family arrived ...         -1\n",
       "5  dirty overpriced hotel returned nite stay extr...         -1\n",
       "6  save money hostel booked night stay january st...         -1\n",
       "7  family friendly hotel travelled wife yr old bo...         -1\n",
       "8  respectable mommy kicked hyatt letter sent hya...         -1\n",
       "9  simplyterrible look lobby hotel think art deco...         -1"
      ]
     },
     "execution_count": 24,
     "metadata": {},
     "output_type": "execute_result"
    }
   ],
   "source": [
    "train7 = train6.copy()\n",
    "train7['Review'] = train7['Review'].apply(lambda text: lemmatize_words(text))\n",
    "train7.head(10)"
   ]
  },
  {
   "cell_type": "markdown",
   "id": "333ac7e1-0bb4-4569-95ed-d300de15a83f",
   "metadata": {},
   "source": [
    "PROCESSING"
   ]
  },
  {
   "cell_type": "code",
   "execution_count": 25,
   "id": "980b0acc-2de2-4909-a2cd-53c2af8bdfe3",
   "metadata": {},
   "outputs": [
    {
     "data": {
      "text/html": [
       "<div>\n",
       "<style scoped>\n",
       "    .dataframe tbody tr th:only-of-type {\n",
       "        vertical-align: middle;\n",
       "    }\n",
       "\n",
       "    .dataframe tbody tr th {\n",
       "        vertical-align: top;\n",
       "    }\n",
       "\n",
       "    .dataframe thead th {\n",
       "        text-align: right;\n",
       "    }\n",
       "</style>\n",
       "<table border=\"1\" class=\"dataframe\">\n",
       "  <thead>\n",
       "    <tr style=\"text-align: right;\">\n",
       "      <th></th>\n",
       "      <th>Review</th>\n",
       "      <th>Sentiment</th>\n",
       "    </tr>\n",
       "  </thead>\n",
       "  <tbody>\n",
       "    <tr>\n",
       "      <th>0</th>\n",
       "      <td>dissapointing hotel punta cana general dream o...</td>\n",
       "      <td>-1</td>\n",
       "    </tr>\n",
       "    <tr>\n",
       "      <th>1</th>\n",
       "      <td>horrible ritz certainly star hotel leading hot...</td>\n",
       "      <td>-1</td>\n",
       "    </tr>\n",
       "    <tr>\n",
       "      <th>2</th>\n",
       "      <td>service smile got disappointment food selectio...</td>\n",
       "      <td>-1</td>\n",
       "    </tr>\n",
       "    <tr>\n",
       "      <th>3</th>\n",
       "      <td>scared stayed wife hotel really disgusted flea...</td>\n",
       "      <td>-1</td>\n",
       "    </tr>\n",
       "    <tr>\n",
       "      <th>4</th>\n",
       "      <td>worth price date stay november family arrived ...</td>\n",
       "      <td>-1</td>\n",
       "    </tr>\n",
       "    <tr>\n",
       "      <th>5</th>\n",
       "      <td>dirty overpriced hotel returned nite stay extr...</td>\n",
       "      <td>-1</td>\n",
       "    </tr>\n",
       "    <tr>\n",
       "      <th>6</th>\n",
       "      <td>save money hostel booked night stay january st...</td>\n",
       "      <td>-1</td>\n",
       "    </tr>\n",
       "    <tr>\n",
       "      <th>7</th>\n",
       "      <td>family friendly hotel travelled wife yr old bo...</td>\n",
       "      <td>-1</td>\n",
       "    </tr>\n",
       "    <tr>\n",
       "      <th>8</th>\n",
       "      <td>respectable mommy kicked hyatt letter sent hya...</td>\n",
       "      <td>-1</td>\n",
       "    </tr>\n",
       "    <tr>\n",
       "      <th>9</th>\n",
       "      <td>simplyterrible look lobby hotel think art deco...</td>\n",
       "      <td>-1</td>\n",
       "    </tr>\n",
       "  </tbody>\n",
       "</table>\n",
       "</div>"
      ],
      "text/plain": [
       "                                              Review  Sentiment\n",
       "0  dissapointing hotel punta cana general dream o...         -1\n",
       "1  horrible ritz certainly star hotel leading hot...         -1\n",
       "2  service smile got disappointment food selectio...         -1\n",
       "3  scared stayed wife hotel really disgusted flea...         -1\n",
       "4  worth price date stay november family arrived ...         -1\n",
       "5  dirty overpriced hotel returned nite stay extr...         -1\n",
       "6  save money hostel booked night stay january st...         -1\n",
       "7  family friendly hotel travelled wife yr old bo...         -1\n",
       "8  respectable mommy kicked hyatt letter sent hya...         -1\n",
       "9  simplyterrible look lobby hotel think art deco...         -1"
      ]
     },
     "execution_count": 25,
     "metadata": {},
     "output_type": "execute_result"
    }
   ],
   "source": [
    "train_proc = train7.copy()\n",
    "train_proc.head(10)"
   ]
  },
  {
   "cell_type": "code",
   "execution_count": 26,
   "id": "d63a6f0a-3dfb-4723-9982-5d61219a7cd8",
   "metadata": {},
   "outputs": [
    {
     "data": {
      "text/plain": [
       "Review       6000\n",
       "Sentiment    6000\n",
       "dtype: int64"
      ]
     },
     "execution_count": 26,
     "metadata": {},
     "output_type": "execute_result"
    }
   ],
   "source": [
    "train_proc.count()"
   ]
  },
  {
   "cell_type": "markdown",
   "id": "f7bc2b65-1d20-498c-a4bd-3deb516cd8c8",
   "metadata": {},
   "source": [
    "TF-IDF"
   ]
  },
  {
   "cell_type": "code",
   "execution_count": 27,
   "id": "df734b32-adb0-4f9a-b0b4-fca46f40b752",
   "metadata": {},
   "outputs": [],
   "source": [
    "docs = list(train_proc['Review'])\n",
    "tfidf_vectorizer=TfidfVectorizer(max_features=20000)\n",
    "tfidf_vectorizer_vectors=tfidf_vectorizer.fit_transform(docs)"
   ]
  },
  {
   "cell_type": "code",
   "execution_count": 28,
   "id": "730a6fd3-9083-480b-b61c-73ac4fcaa27d",
   "metadata": {},
   "outputs": [],
   "source": [
    "X = tfidf_vectorizer_vectors.toarray()\n",
    "Y = train_proc['Sentiment']"
   ]
  },
  {
   "cell_type": "code",
   "execution_count": 29,
   "id": "b13295ee-f8fb-4c82-9921-3e9bd214f6d4",
   "metadata": {},
   "outputs": [
    {
     "data": {
      "text/plain": [
       "array([[0., 0., 0., ..., 0., 0., 0.],\n",
       "       [0., 0., 0., ..., 0., 0., 0.],\n",
       "       [0., 0., 0., ..., 0., 0., 0.],\n",
       "       ...,\n",
       "       [0., 0., 0., ..., 0., 0., 0.],\n",
       "       [0., 0., 0., ..., 0., 0., 0.],\n",
       "       [0., 0., 0., ..., 0., 0., 0.]])"
      ]
     },
     "execution_count": 29,
     "metadata": {},
     "output_type": "execute_result"
    }
   ],
   "source": [
    "X"
   ]
  },
  {
   "cell_type": "code",
   "execution_count": 30,
   "id": "f6e62c54-0eaa-449c-832f-d0ec7207267a",
   "metadata": {},
   "outputs": [
    {
     "data": {
      "text/plain": [
       "0      -1\n",
       "1      -1\n",
       "2      -1\n",
       "3      -1\n",
       "4      -1\n",
       "       ..\n",
       "5995    1\n",
       "5996    1\n",
       "5997    1\n",
       "5998    1\n",
       "5999    1\n",
       "Name: Sentiment, Length: 6000, dtype: int64"
      ]
     },
     "execution_count": 30,
     "metadata": {},
     "output_type": "execute_result"
    }
   ],
   "source": [
    "Y"
   ]
  },
  {
   "cell_type": "code",
   "execution_count": 31,
   "id": "0e31a6bd-bfb6-4012-a4eb-a897ed35e8c4",
   "metadata": {},
   "outputs": [
    {
     "data": {
      "text/plain": [
       "6000"
      ]
     },
     "execution_count": 31,
     "metadata": {},
     "output_type": "execute_result"
    }
   ],
   "source": [
    "len(X)"
   ]
  },
  {
   "cell_type": "code",
   "execution_count": 32,
   "id": "288fd601-31a4-41f5-8693-45a0c22db2b4",
   "metadata": {},
   "outputs": [
    {
     "data": {
      "text/plain": [
       "20000"
      ]
     },
     "execution_count": 32,
     "metadata": {},
     "output_type": "execute_result"
    }
   ],
   "source": [
    "len(X[0])"
   ]
  },
  {
   "cell_type": "markdown",
   "id": "3f1f835c-1c0e-46f1-b1a5-1cd313e3f488",
   "metadata": {},
   "source": [
    "TRAIN TEST SPLIT"
   ]
  },
  {
   "cell_type": "code",
   "execution_count": 33,
   "id": "d7eae81e-37b6-4182-a559-d65f308944f0",
   "metadata": {},
   "outputs": [],
   "source": [
    "X_train,X_test,y_train,y_test = train_test_split(X, Y, test_size=0.2, random_state=0)"
   ]
  },
  {
   "cell_type": "code",
   "execution_count": 34,
   "id": "0b451a8c-90a2-4278-8247-e589e22b488a",
   "metadata": {},
   "outputs": [
    {
     "data": {
      "text/plain": [
       "4800"
      ]
     },
     "execution_count": 34,
     "metadata": {},
     "output_type": "execute_result"
    }
   ],
   "source": [
    "len(X_train)"
   ]
  },
  {
   "cell_type": "code",
   "execution_count": 35,
   "id": "6da4b23c-b297-4962-9154-b8e81e94fddf",
   "metadata": {},
   "outputs": [
    {
     "data": {
      "text/plain": [
       "1200"
      ]
     },
     "execution_count": 35,
     "metadata": {},
     "output_type": "execute_result"
    }
   ],
   "source": [
    "len(X_test)"
   ]
  },
  {
   "cell_type": "markdown",
   "id": "b26896a4-e1d2-4d8b-b71e-13391b1b1577",
   "metadata": {},
   "source": [
    "CLASSIFICATION"
   ]
  },
  {
   "cell_type": "code",
   "execution_count": 36,
   "id": "caf590be-f8d1-4278-98fe-48e40fcd72a0",
   "metadata": {},
   "outputs": [],
   "source": [
    "RANDOM_SEED=0"
   ]
  },
  {
   "cell_type": "code",
   "execution_count": 37,
   "id": "52b3d423-f0ec-48a7-a779-09b774840a4a",
   "metadata": {},
   "outputs": [
    {
     "name": "stdout",
     "output_type": "stream",
     "text": [
      "Training Accuracy score: 0.9046\n",
      "Testing Accuracy score: 0.7217\n"
     ]
    }
   ],
   "source": [
    "lr = LogisticRegression(random_state=RANDOM_SEED).fit(X_train, y_train)\n",
    "y_pred_train = lr.predict(X_train)\n",
    "y_pred_test = lr.predict(X_test)\n",
    "print(\"Training Accuracy score: \"+str(round(accuracy_score(y_train,lr.predict(X_train)),4)))\n",
    "print(\"Testing Accuracy score: \"+str(round(accuracy_score(y_test,lr.predict(X_test)),4)))"
   ]
  },
  {
   "cell_type": "code",
   "execution_count": 38,
   "id": "865a4c64-2b0d-4f8b-aa34-f3090b38465e",
   "metadata": {},
   "outputs": [
    {
     "name": "stdout",
     "output_type": "stream",
     "text": [
      "              precision    recall  f1-score   support\n",
      "\n",
      "    positive       0.76      0.81      0.78       385\n",
      "     neutral       0.60      0.62      0.61       393\n",
      "    negative       0.80      0.74      0.77       422\n",
      "\n",
      "    accuracy                           0.72      1200\n",
      "   macro avg       0.72      0.72      0.72      1200\n",
      "weighted avg       0.72      0.72      0.72      1200\n",
      "\n"
     ]
    }
   ],
   "source": [
    "print(classification_report(y_test, y_pred_test, target_names=['positive', 'neutral', 'negative']))"
   ]
  },
  {
   "cell_type": "code",
   "execution_count": 39,
   "id": "a27bfe61-d5ec-47e0-aeb8-07cd37499352",
   "metadata": {},
   "outputs": [
    {
     "data": {
      "image/png": "[encoded data removed]",
      "text/plain": [
       "<Figure size 640x480 with 2 Axes>"
      ]
     },
     "metadata": {},
     "output_type": "display_data"
    }
   ],
   "source": [
    "cm = confusion_matrix(y_test, y_pred_test)\n",
    "#print('Confusion matrix\\n', cm)\n",
    "cm_matrix = pd.DataFrame(data=cm, columns=['Actual Negative', 'Actual Neutral', 'Actual Positive'], \n",
    "                        index=['Predict Negative', 'Predict Neutral', 'Predict Positive'])\n",
    "sns.heatmap(cm_matrix, annot=True, fmt='d', cmap='Blues')\n",
    "plt.show()"
   ]
  },
  {
   "cell_type": "markdown",
   "id": "79272615-e95f-4644-9f75-4cca29480794",
   "metadata": {},
   "source": [
    "TEST ON REST OF DATA"
   ]
  },
  {
   "cell_type": "code",
   "execution_count": 40,
   "id": "5ef42c4c-ce8c-4060-bd8d-c752bd030fbc",
   "metadata": {},
   "outputs": [
    {
     "data": {
      "text/plain": [
       "14491"
      ]
     },
     "execution_count": 40,
     "metadata": {},
     "output_type": "execute_result"
    }
   ],
   "source": [
    "len(test)"
   ]
  },
  {
   "cell_type": "code",
   "execution_count": 41,
   "id": "5cbeb866-2df3-49b8-bf66-664b4a5d7c09",
   "metadata": {},
   "outputs": [],
   "source": [
    "docs_test_rest = list(test['Review'])\n",
    "tfidf_vectorizer=TfidfVectorizer(max_features=20000)\n",
    "tfidf_vectorizer_vectors_rest=tfidf_vectorizer.fit_transform(docs_test_rest)"
   ]
  },
  {
   "cell_type": "code",
   "execution_count": 42,
   "id": "6c3630c7-c4fd-4a45-a9ba-e299200b119a",
   "metadata": {},
   "outputs": [],
   "source": [
    "X_rest = tfidf_vectorizer_vectors_rest.toarray()\n",
    "Y_rest = test['Sentiment']"
   ]
  },
  {
   "cell_type": "code",
   "execution_count": 43,
   "id": "93cbbcd5-ba3f-490c-addf-b125428624f7",
   "metadata": {},
   "outputs": [],
   "source": [
    "y_pred_rest_test = lr.predict(X_rest)"
   ]
  },
  {
   "cell_type": "code",
   "execution_count": 44,
   "id": "41bcfc4a-2857-4277-96f5-b2a4100f0146",
   "metadata": {},
   "outputs": [
    {
     "name": "stdout",
     "output_type": "stream",
     "text": [
      "Testing Accuracy score: 0.0878\n"
     ]
    }
   ],
   "source": [
    "print(\"Testing Accuracy score: \"+str(round(accuracy_score(Y_rest,lr.predict(X_rest)),4)))"
   ]
  },
  {
   "cell_type": "code",
   "execution_count": 45,
   "id": "ab8b8894-ba46-405f-b489-3763485270b1",
   "metadata": {},
   "outputs": [
    {
     "name": "stdout",
     "output_type": "stream",
     "text": [
      "              precision    recall  f1-score   support\n",
      "\n",
      "    positive       0.08      0.99      0.15      1214\n",
      "     neutral       0.04      0.01      0.01       184\n",
      "    negative       0.92      0.01      0.01     13093\n",
      "\n",
      "    accuracy                           0.09     14491\n",
      "   macro avg       0.35      0.33      0.06     14491\n",
      "weighted avg       0.84      0.09      0.02     14491\n",
      "\n"
     ]
    }
   ],
   "source": [
    "print(classification_report(Y_rest, y_pred_rest_test, target_names=['positive', 'neutral', 'negative']))"
   ]
  },
  {
   "cell_type": "code",
   "execution_count": 46,
   "id": "b71a203e-9773-4dc8-af9c-313a45657bff",
   "metadata": {},
   "outputs": [
    {
     "data": {
      "image/png": "[encoded data removed]",
      "text/plain": [
       "<Figure size 640x480 with 2 Axes>"
      ]
     },
     "metadata": {},
     "output_type": "display_data"
    }
   ],
   "source": [
    "cm = confusion_matrix(Y_rest, y_pred_rest_test)\n",
    "#print('Confusion matrix\\n', cm)\n",
    "cm_matrix = pd.DataFrame(data=cm, columns=['Actual Negative', 'Actual Neutral', 'Actual Positive'], \n",
    "                        index=['Predict Negative', 'Predict Neutral', 'Predict Positive'])\n",
    "sns.heatmap(cm_matrix, annot=True, fmt='d', cmap='Blues')\n",
    "plt.show()"
   ]
  },
  {
   "cell_type": "markdown",
   "id": "ba986f04-6832-472f-a30d-646418e5c90b",
   "metadata": {},
   "source": [
    "REST DATA PROCESSED"
   ]
  },
  {
   "cell_type": "code",
   "execution_count": 47,
   "id": "4305ff77-f64c-4ed8-a6fa-1bbdc2e30806",
   "metadata": {},
   "outputs": [
    {
     "data": {
      "text/html": [
       "<div>\n",
       "<style scoped>\n",
       "    .dataframe tbody tr th:only-of-type {\n",
       "        vertical-align: middle;\n",
       "    }\n",
       "\n",
       "    .dataframe tbody tr th {\n",
       "        vertical-align: top;\n",
       "    }\n",
       "\n",
       "    .dataframe thead th {\n",
       "        text-align: right;\n",
       "    }\n",
       "</style>\n",
       "<table border=\"1\" class=\"dataframe\">\n",
       "  <thead>\n",
       "    <tr style=\"text-align: right;\">\n",
       "      <th></th>\n",
       "      <th>Review</th>\n",
       "      <th>Sentiment</th>\n",
       "    </tr>\n",
       "  </thead>\n",
       "  <tbody>\n",
       "    <tr>\n",
       "      <th>0</th>\n",
       "      <td>nice hotel expensive parking got good deal sta...</td>\n",
       "      <td>1</td>\n",
       "    </tr>\n",
       "    <tr>\n",
       "      <th>1</th>\n",
       "      <td>ok nothing special charge diamond member hilto...</td>\n",
       "      <td>-1</td>\n",
       "    </tr>\n",
       "    <tr>\n",
       "      <th>2</th>\n",
       "      <td>unique great stay wonderful time hotel monaco ...</td>\n",
       "      <td>1</td>\n",
       "    </tr>\n",
       "    <tr>\n",
       "      <th>3</th>\n",
       "      <td>great stay great stay went seahawk game awesom...</td>\n",
       "      <td>1</td>\n",
       "    </tr>\n",
       "    <tr>\n",
       "      <th>4</th>\n",
       "      <td>love monaco staff husband stayed hotel crazy w...</td>\n",
       "      <td>1</td>\n",
       "    </tr>\n",
       "    <tr>\n",
       "      <th>5</th>\n",
       "      <td>cozy stay rainy city husband spent night monac...</td>\n",
       "      <td>1</td>\n",
       "    </tr>\n",
       "    <tr>\n",
       "      <th>6</th>\n",
       "      <td>hotel stayed hotel monaco cruise room generous...</td>\n",
       "      <td>1</td>\n",
       "    </tr>\n",
       "    <tr>\n",
       "      <th>7</th>\n",
       "      <td>excellent stayed hotel monaco past delight rec...</td>\n",
       "      <td>1</td>\n",
       "    </tr>\n",
       "    <tr>\n",
       "      <th>8</th>\n",
       "      <td>nice value seattle stayed night late looked co...</td>\n",
       "      <td>1</td>\n",
       "    </tr>\n",
       "    <tr>\n",
       "      <th>9</th>\n",
       "      <td>nice hotel good location hotel kimpton design ...</td>\n",
       "      <td>1</td>\n",
       "    </tr>\n",
       "  </tbody>\n",
       "</table>\n",
       "</div>"
      ],
      "text/plain": [
       "                                              Review  Sentiment\n",
       "0  nice hotel expensive parking got good deal sta...          1\n",
       "1  ok nothing special charge diamond member hilto...         -1\n",
       "2  unique great stay wonderful time hotel monaco ...          1\n",
       "3  great stay great stay went seahawk game awesom...          1\n",
       "4  love monaco staff husband stayed hotel crazy w...          1\n",
       "5  cozy stay rainy city husband spent night monac...          1\n",
       "6  hotel stayed hotel monaco cruise room generous...          1\n",
       "7  excellent stayed hotel monaco past delight rec...          1\n",
       "8  nice value seattle stayed night late looked co...          1\n",
       "9  nice hotel good location hotel kimpton design ...          1"
      ]
     },
     "execution_count": 47,
     "metadata": {},
     "output_type": "execute_result"
    }
   ],
   "source": [
    "test_proc = test.copy()\n",
    "test_proc['Review'] = test_proc['Review'].apply(lambda x: [contractions.fix(word) for word in x.split()])\n",
    "test_proc['Review'] = [' '.join(map(str, l)) for l in test_proc['Review']]\n",
    "test_proc[\"Review\"] = test_proc[\"Review\"].str.lower()\n",
    "test_proc['Review'] = test_proc['Review'].apply(lambda x: re.sub(\"[0-9]\", \" \", x))\n",
    "test_proc['Review'] = test_proc['Review'].apply(lambda x: re.sub('[%s]' % re.escape(st.punctuation), '' , x))\n",
    "test_proc['Review'] = test_proc['Review'].apply(lambda text: remove_stopwords(text))\n",
    "test_proc['Review'] = test_proc['Review'].apply(lambda text: lemmatize_words(text))\n",
    "test_proc.head(10)"
   ]
  },
  {
   "cell_type": "code",
   "execution_count": 48,
   "id": "12380444-ca44-4fdc-8a75-2db993621a14",
   "metadata": {},
   "outputs": [],
   "source": [
    "docs_test_rest_proc = list(test_proc['Review'])\n",
    "tfidf_vectorizer=TfidfVectorizer(max_features=20000)\n",
    "tfidf_vectorizer_vectors_rest_proc=tfidf_vectorizer.fit_transform(docs_test_rest_proc)"
   ]
  },
  {
   "cell_type": "code",
   "execution_count": 49,
   "id": "9bb85889-fb86-46cb-be9f-36390d611782",
   "metadata": {},
   "outputs": [],
   "source": [
    "X_rest_proc = tfidf_vectorizer_vectors_rest_proc.toarray()\n",
    "Y_rest_proc = test_proc['Sentiment']"
   ]
  },
  {
   "cell_type": "code",
   "execution_count": 50,
   "id": "9e78a7a1-d4ba-4dd5-ab0e-72fa5fa677e1",
   "metadata": {},
   "outputs": [],
   "source": [
    "y_pred_rest_test_proc = lr.predict(X_rest_proc)"
   ]
  },
  {
   "cell_type": "code",
   "execution_count": 51,
   "id": "17d10b14-0bc2-4225-bd0c-3c6e72f37edf",
   "metadata": {},
   "outputs": [
    {
     "name": "stdout",
     "output_type": "stream",
     "text": [
      "Testing Accuracy score: 0.0943\n"
     ]
    }
   ],
   "source": [
    "print(\"Testing Accuracy score: \"+str(round(accuracy_score(Y_rest_proc,lr.predict(X_rest_proc)),4)))"
   ]
  },
  {
   "cell_type": "code",
   "execution_count": 52,
   "id": "12073fec-d18d-40d0-8780-dde756d3b618",
   "metadata": {},
   "outputs": [
    {
     "name": "stdout",
     "output_type": "stream",
     "text": [
      "              precision    recall  f1-score   support\n",
      "\n",
      "    positive       0.08      0.97      0.15      1214\n",
      "     neutral       0.06      0.02      0.03       184\n",
      "    negative       0.84      0.01      0.03     13093\n",
      "\n",
      "    accuracy                           0.09     14491\n",
      "   macro avg       0.33      0.33      0.07     14491\n",
      "weighted avg       0.77      0.09      0.04     14491\n",
      "\n"
     ]
    }
   ],
   "source": [
    "print(classification_report(Y_rest_proc, y_pred_rest_test_proc, target_names=['positive', 'neutral', 'negative']))"
   ]
  },
  {
   "cell_type": "code",
   "execution_count": 53,
   "id": "f4b70f5c-e3cf-4c04-8879-1e81086548ac",
   "metadata": {},
   "outputs": [
    {
     "data": {
      "image/png": "[encoded data removed]",
      "text/plain": [
       "<Figure size 640x480 with 2 Axes>"
      ]
     },
     "metadata": {},
     "output_type": "display_data"
    }
   ],
   "source": [
    "cm = confusion_matrix(Y_rest_proc, y_pred_rest_test_proc)\n",
    "#print('Confusion matrix\\n', cm)\n",
    "cm_matrix = pd.DataFrame(data=cm, columns=['Actual Negative', 'Actual Neutral', 'Actual Positive'], \n",
    "                        index=['Predict Negative', 'Predict Neutral', 'Predict Positive'])\n",
    "sns.heatmap(cm_matrix, annot=True, fmt='d', cmap='Blues')\n",
    "plt.show()"
   ]
  },
  {
   "cell_type": "code",
   "execution_count": null,
   "id": "ba4fb010-455b-4687-aba5-60e6b8452831",
   "metadata": {},
   "outputs": [],
   "source": []
  },
  {
   "cell_type": "code",
   "execution_count": null,
   "id": "c48606b9-656f-4d75-aa5e-ad52fb1402a4",
   "metadata": {},
   "outputs": [],
   "source": []
  }
 ],
 "metadata": {
  "kernelspec": {
   "display_name": "Python 3 (ipykernel)",
   "language": "python",
   "name": "python3"
  },
  "language_info": {
   "codemirror_mode": {
    "name": "ipython",
    "version": 3
   },
   "file_extension": ".py",
   "mimetype": "text/x-python",
   "name": "python",
   "nbconvert_exporter": "python",
   "pygments_lexer": "ipython3",
   "version": "3.10.13"
  }
 },
 "nbformat": 4,
 "nbformat_minor": 5
}
